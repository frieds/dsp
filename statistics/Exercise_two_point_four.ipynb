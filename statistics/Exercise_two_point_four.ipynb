{
 "cells": [
  {
   "cell_type": "markdown",
   "metadata": {},
   "source": [
    "Using the variable totalwgt_lb, investigate whether first babies are lighter or heavier than others. Compute Cohen’s d to quantify the difference between the groups. How does it compare to the difference in pregnancy length?"
   ]
  },
  {
   "cell_type": "markdown",
   "metadata": {},
   "source": [
    "The code below doesn't work "
   ]
  },
  {
   "cell_type": "code",
   "execution_count": 33,
   "metadata": {
    "collapsed": true
   },
   "outputs": [],
   "source": [
    "from __future__ import print_function, division\n",
    "%matplotlib inline\n",
    "import numpy as np\n",
    "import nsfg\n",
    "import thinkstats2\n",
    "import first\n",
    "import thinkplot"
   ]
  },
  {
   "cell_type": "markdown",
   "metadata": {},
   "source": [
    "# TODO\n",
    "\n",
    "1) get our pandas dataframe\n",
    "2) get the series for totalwgt_lb\n",
    "3) get the series for totalwgt_lb filtered by first babies\n",
    "    - graph a histogram \n",
    "    - get the mean\n",
    "    - get the std. dev\n",
    "4) get the series for totalwgt_lb filtered by all non-first babies\n",
    "    - graph a histogram\n",
    "    - get the mean\n",
    "    - get the std. dev\n",
    "5) Get the Cohen's d as a difference between groups"
   ]
  },
  {
   "cell_type": "code",
   "execution_count": 34,
   "metadata": {
    "collapsed": false
   },
   "outputs": [
    {
     "data": {
      "image/png": "[encoded data removed]",
      "text/plain": [
       "<matplotlib.figure.Figure at 0x11702df28>"
      ]
     },
     "metadata": {},
     "output_type": "display_data"
    }
   ],
   "source": [
    "preg = nsfg.ReadFemPreg()  # preg is our dataframe\n",
    "totalwgt_lb = preg['totalwgt_lb']\n",
    "hist_totalwgt_lb = thinkstats2.Hist(totalwgt_lb, label='totalwgt_lb')\n",
    "thinkplot.Hist(hist_totalwgt_lb)\n",
    "thinkplot.Config(title='Histogram: Weights of Babies', xlabel='baby weight (pounds)', ylabel='count')"
   ]
  },
  {
   "cell_type": "markdown",
   "metadata": {},
   "source": [
    "What's our sample size?"
   ]
  },
  {
   "cell_type": "code",
   "execution_count": 51,
   "metadata": {
    "collapsed": false
   },
   "outputs": [
    {
     "name": "stdout",
     "output_type": "stream",
     "text": [
      "There's a sample size of: 13593 babies\n",
      "Mean baby weight (lbs) is: 7.265628457623368\n",
      "Variance baby weight (lbs) is: 1.9832904288326532\n",
      "Std. dev baby weight (lbs) is: 1.4082934455690168\n"
     ]
    }
   ],
   "source": [
    "print(\"There's a sample size of: {0} babies\".format(totalwgt_lb.size))\n",
    "print(\"Mean baby weight (lbs) is: {0}\".format(totalwgt_lb.mean()))\n",
    "print(\"Variance baby weight (lbs) is: {0}\".format(totalwgt_lb.var()))\n",
    "print(\"Std. dev baby weight (lbs) is: {0}\".format(totalwgt_lb.std()))"
   ]
  },
  {
   "cell_type": "markdown",
   "metadata": {},
   "source": [
    "It seems like baby weights are heavily clustered around the mean and don't vary by much. However, the graph indicates some far-out numbers."
   ]
  },
  {
   "cell_type": "markdown",
   "metadata": {},
   "source": [
    "Let's examine for potential outliers..."
   ]
  },
  {
   "cell_type": "code",
   "execution_count": 52,
   "metadata": {
    "collapsed": false
   },
   "outputs": [
    {
     "name": "stdout",
     "output_type": "stream",
     "text": [
      "15.4375 1\n",
      "14.0 3\n",
      "13.75 1\n",
      "13.5 1\n",
      "13.0 1\n",
      "12.5 1\n",
      "12.375 2\n",
      "12.1875 2\n",
      "12.0 5\n",
      "11.9375 1\n"
     ]
    }
   ],
   "source": [
    "for lbs, count in hist_totalwgt_lb.Largest(10):\n",
    "    print(lbs, count)"
   ]
  },
  {
   "cell_type": "markdown",
   "metadata": {},
   "source": [
    "The weight values above 13lbs seem high, but they're not too far from our mean value that I think they could be reasonable. "
   ]
  },
  {
   "cell_type": "code",
   "execution_count": 37,
   "metadata": {
    "collapsed": false
   },
   "outputs": [
    {
     "name": "stdout",
     "output_type": "stream",
     "text": [
      "0.125 1\n",
      "0.3125 1\n",
      "0.4375 1\n",
      "0.5625 1\n",
      "0.625 2\n",
      "0.9375 1\n",
      "1.0 1\n",
      "1.0625 3\n",
      "1.125 2\n",
      "1.1875 1\n",
      "1.25 2\n",
      "1.3125 3\n",
      "1.375 6\n",
      "1.4375 1\n",
      "1.5 4\n",
      "1.5625 3\n",
      "1.625 5\n",
      "1.6875 1\n",
      "1.75 4\n",
      "1.8125 1\n"
     ]
    }
   ],
   "source": [
    "for lbs, count in hist_totalwgt_lb.Smallest(20):\n",
    "    print(lbs, count)"
   ]
  },
  {
   "cell_type": "markdown",
   "metadata": {},
   "source": [
    "I think there are more outliers on the lower end of the scale. However, these weights aren't filtered by successful births or not, so a lot of these lower values may not have been successful births.\n",
    "___"
   ]
  },
  {
   "cell_type": "markdown",
   "metadata": {},
   "source": [
    "From the set of baby weights, we can filter by those which are firstborn by a mother versus those which are *not* firstborn by a mother. "
   ]
  },
  {
   "cell_type": "code",
   "execution_count": 42,
   "metadata": {
    "collapsed": false
   },
   "outputs": [],
   "source": [
    "firsts_weights = preg[preg.pregordr==1].totalwgt_lb\n",
    "non_firsts_weights = preg[preg.pregordr!=1].totalwgt_lb"
   ]
  },
  {
   "cell_type": "code",
   "execution_count": 43,
   "metadata": {
    "collapsed": true
   },
   "outputs": [],
   "source": [
    "firsts_weights_hist = thinkstats2.Hist(firsts_weights, label='firstborn')\n",
    "non_firsts_weights_hist = thinkstats2.Hist(non_firsts_weights, label='not firstborn')"
   ]
  },
  {
   "cell_type": "code",
   "execution_count": 47,
   "metadata": {
    "collapsed": false
   },
   "outputs": [
    {
     "data": {
      "image/png": "[encoded data removed]",
      "text/plain": [
       "<matplotlib.figure.Figure at 0x120859320>"
      ]
     },
     "metadata": {},
     "output_type": "display_data"
    }
   ],
   "source": [
    "width = 0.45\n",
    "thinkplot.PrePlot(2)\n",
    "thinkplot.Hist(firsts_weights_hist, align='right', width=width)\n",
    "thinkplot.Hist(non_firsts_weights_hist, align='left', width=width)\n",
    "thinkplot.Config(title='Baby Weights of Firstborns Versus Not Firstborns', xlabel='weight (pounds)', ylabel='count', xlim=[2,14])"
   ]
  },
  {
   "cell_type": "code",
   "execution_count": 54,
   "metadata": {
    "collapsed": false
   },
   "outputs": [
    {
     "name": "stdout",
     "output_type": "stream",
     "text": [
      "Mean difference between groups: -0.09729209104654846 lbs\n",
      "Std dev difference between groups: 0.010741278427921275 lbs\n"
     ]
    }
   ],
   "source": [
    "mean_diff = firsts_weights.mean() - non_firsts_weights.mean()\n",
    "std_dev_diff = firsts_weights.std() - non_firsts_weights.std()\n",
    "print(\"Mean difference between groups: {0} lbs\".format(mean_diff))\n",
    "print(\"Std dev difference between groups: {0} lbs\".format(std_dev_diff))"
   ]
  },
  {
   "cell_type": "markdown",
   "metadata": {},
   "source": [
    "There's marginal difference between the mean and std dev of the groups. Non-first babies have a slightly higher mean by 0.09 lbs. "
   ]
  },
  {
   "cell_type": "code",
   "execution_count": 55,
   "metadata": {
    "collapsed": true
   },
   "outputs": [],
   "source": [
    "def CohenEffectSize(group1, group2):\n",
    "    \"\"\"Computes Cohen's effect size for two groups.\n",
    "    The difference in means expressed in number of std deviations\n",
    "    group1: Series or DataFrame\n",
    "    group2: Series or DataFrame\n",
    "    \n",
    "    returns: float if the arguments are Series;\n",
    "             Series if the arguments are DataFrames\n",
    "    \"\"\"\n",
    "    diff = group1.mean() - group2.mean()\n",
    "\n",
    "    var1 = group1.var()\n",
    "    var2 = group2.var()\n",
    "    n1, n2 = len(group1), len(group2)\n",
    "\n",
    "    pooled_var = (n1 * var1 + n2 * var2) / (n1 + n2)  # avg variance between two groups\n",
    "    d = diff / np.sqrt(pooled_var)  # \n",
    "    return d"
   ]
  },
  {
   "cell_type": "code",
   "execution_count": 56,
   "metadata": {
    "collapsed": false
   },
   "outputs": [
    {
     "data": {
      "text/plain": [
       "-0.069118253488209339"
      ]
     },
     "execution_count": 56,
     "metadata": {},
     "output_type": "execute_result"
    }
   ],
   "source": [
    "CohenEffectSize(firsts_weights, non_firsts_weights)"
   ]
  },
  {
   "cell_type": "markdown",
   "metadata": {},
   "source": [
    "The Cohen effect size is 0.069 standard deviations, which is a large effect. This value is a little over double the value for the Cohen effect size for pregnancy length. "
   ]
  }
 ],
 "metadata": {
  "kernelspec": {
   "display_name": "Python 3",
   "language": "python",
   "name": "python3"
  },
  "language_info": {
   "codemirror_mode": {
    "name": "ipython",
    "version": 3.0
   },
   "file_extension": ".py",
   "mimetype": "text/x-python",
   "name": "python",
   "nbconvert_exporter": "python",
   "pygments_lexer": "ipython3",
   "version": "3.6.0"
  }
 },
 "nbformat": 4,
 "nbformat_minor": 0
}